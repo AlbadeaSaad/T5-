{
 "cells": [
  {
   "cell_type": "markdown",
   "id": "9ae4cc02",
   "metadata": {},
   "source": [
    "# Bagging Exercise\n",
    "\n",
    "In this exercise, you will explore the concept of Bagging (Bootstrap Aggregating) and implement it using a random forest model. Bagging is an ensemble technique mainly used for reducing the variance of a predictive model and preventing overfitting. The main idea behind bagging is to combine multiple learners in a way that the ensemble model performs better than an individual model.\n",
    "\n",
    "## Dataset\n",
    "We will use the Iris dataset for this exercise. The Iris dataset is a classic dataset from the field of machine learning, containing measurements for iris flowers of three different species. **Feel free to use another dataset!!**\n",
    "\n",
    "## Task\n",
    "Your task is to:\n",
    "1. Load the dataset.\n",
    "2. Preprocess the data (if necessary).\n",
    "3. Implement Bagging models.\n",
    "4. Evaluate the models performance.\n",
    "\n",
    "Please fill in the following code blocks to complete the exercise.\n"
   ]
  },
  {
   "cell_type": "code",
   "execution_count": 101,
   "id": "cd906704",
   "metadata": {},
   "outputs": [],
   "source": [
    "import pandas as pd\n",
    "from sklearn.datasets import load_iris\n",
    "from sklearn.ensemble import RandomForestClassifier\n",
    "from sklearn.model_selection import train_test_split\n",
    "from sklearn.metrics import accuracy_score\n",
    "from sklearn.model_selection import train_test_split\n",
    "from sklearn.ensemble import BaggingClassifier, RandomForestClassifier\n",
    "from sklearn.tree import DecisionTreeClassifier\n",
    "from sklearn.neighbors import KNeighborsClassifier\n",
    "from sklearn.metrics import accuracy_score"
   ]
  },
  {
   "cell_type": "markdown",
   "id": "3bc0f20e",
   "metadata": {},
   "source": [
    "# Load the dataset\n"
   ]
  },
  {
   "cell_type": "code",
   "execution_count": 104,
   "id": "662d0a57-028f-42c5-b0f5-06c032711eda",
   "metadata": {},
   "outputs": [],
   "source": [
    "df = pd.DataFrame(load_iris().data, columns=load_iris().feature_names)\n",
    "df['target'] = load_iris().target"
   ]
  },
  {
   "cell_type": "markdown",
   "id": "c0e69164",
   "metadata": {},
   "source": [
    "# Preprocess the data (if necessary)"
   ]
  },
  {
   "cell_type": "code",
   "execution_count": 120,
   "id": "1c56d9ea",
   "metadata": {},
   "outputs": [
    {
     "name": "stdout",
     "output_type": "stream",
     "text": [
      "<class 'pandas.core.frame.DataFrame'>\n",
      "RangeIndex: 150 entries, 0 to 149\n",
      "Data columns (total 5 columns):\n",
      " #   Column             Non-Null Count  Dtype  \n",
      "---  ------             --------------  -----  \n",
      " 0   sepal length (cm)  150 non-null    float64\n",
      " 1   sepal width (cm)   150 non-null    float64\n",
      " 2   petal length (cm)  150 non-null    float64\n",
      " 3   petal width (cm)   150 non-null    float64\n",
      " 4   target             150 non-null    int32  \n",
      "dtypes: float64(4), int32(1)\n",
      "memory usage: 5.4 KB\n"
     ]
    }
   ],
   "source": [
    "df.info()"
   ]
  },
  {
   "cell_type": "code",
   "execution_count": 122,
   "id": "9695e3a5-2cd5-4224-bdd7-97fa69905a9d",
   "metadata": {},
   "outputs": [
    {
     "data": {
      "text/plain": [
       "target\n",
       "0    50\n",
       "1    50\n",
       "2    50\n",
       "Name: count, dtype: int64"
      ]
     },
     "execution_count": 122,
     "metadata": {},
     "output_type": "execute_result"
    }
   ],
   "source": [
    "df['target'].value_counts()"
   ]
  },
  {
   "cell_type": "markdown",
   "id": "2104eb8e",
   "metadata": {},
   "source": [
    "# Split the Dataset"
   ]
  },
  {
   "cell_type": "code",
   "execution_count": 109,
   "id": "f3a3d4e9",
   "metadata": {},
   "outputs": [],
   "source": [
    "X = df.drop(columns = 'target')\n",
    "y = df[['target']]"
   ]
  },
  {
   "cell_type": "code",
   "execution_count": 112,
   "id": "e3daf6a9-685e-4817-8f95-2a391bc9664a",
   "metadata": {},
   "outputs": [],
   "source": [
    "X_train, X_test, y_train, y_test = train_test_split(X, y, random_state = 42, test_size = .2)"
   ]
  },
  {
   "cell_type": "markdown",
   "id": "bdcb9a0a",
   "metadata": {},
   "source": [
    "# Initialize and Train the Classifiers"
   ]
  },
  {
   "cell_type": "markdown",
   "id": "ea773220",
   "metadata": {},
   "source": [
    "## Random Forest\n",
    "Initialize and train a Random Forest classifier."
   ]
  },
  {
   "cell_type": "code",
   "execution_count": 128,
   "id": "3e29fd42",
   "metadata": {},
   "outputs": [
    {
     "name": "stderr",
     "output_type": "stream",
     "text": [
      "C:\\Users\\gemar\\anaconda3\\Lib\\site-packages\\sklearn\\ensemble\\_bagging.py:782: DataConversionWarning: A column-vector y was passed when a 1d array was expected. Please change the shape of y to (n_samples, ), for example using ravel().\n",
      "  y = column_or_1d(y, warn=True)\n"
     ]
    },
    {
     "data": {
      "text/plain": [
       "1.0"
      ]
     },
     "execution_count": 128,
     "metadata": {},
     "output_type": "execute_result"
    }
   ],
   "source": [
    "rf = RandomForestClassifier()\n",
    "bagging = BaggingClassifier(rf, n_estimators = 1, random_state = 7)\n",
    "bagging.fit(X_train, y_train)\n",
    "\n",
    "y_pred_rfbag = bagging.predict(X_test)\n",
    "\n"
   ]
  },
  {
   "cell_type": "markdown",
   "id": "fb3a2438",
   "metadata": {},
   "source": [
    "### Evaluate the model performance"
   ]
  },
  {
   "cell_type": "code",
   "execution_count": null,
   "id": "38d965b4",
   "metadata": {},
   "outputs": [],
   "source": [
    "accuracy_score(y_test, y_pred_rfbag)"
   ]
  },
  {
   "cell_type": "markdown",
   "id": "27ef4327",
   "metadata": {},
   "source": [
    "## Bagging Meta-estimator\n",
    "Initialize a K-Nearest Neighbors classifier and use it as the base estimator for the Bagging classifier."
   ]
  },
  {
   "cell_type": "code",
   "execution_count": 130,
   "id": "d3a43f7f",
   "metadata": {},
   "outputs": [
    {
     "name": "stderr",
     "output_type": "stream",
     "text": [
      "C:\\Users\\gemar\\anaconda3\\Lib\\site-packages\\sklearn\\ensemble\\_bagging.py:782: DataConversionWarning: A column-vector y was passed when a 1d array was expected. Please change the shape of y to (n_samples, ), for example using ravel().\n",
      "  y = column_or_1d(y, warn=True)\n"
     ]
    }
   ],
   "source": [
    "kn = KNeighborsClassifier()\n",
    "bagging_kn = BaggingClassifier(kn, n_estimators = 20, random_state = 42)\n",
    "\n",
    "bagging_kn.fit(X_train, y_train)\n",
    "y_pred_kn = bagging_kn.predict(X_test)\n"
   ]
  },
  {
   "cell_type": "markdown",
   "id": "1b8db1eb",
   "metadata": {},
   "source": [
    "### Evaluate the model performance"
   ]
  },
  {
   "cell_type": "code",
   "execution_count": 132,
   "id": "8697dc13",
   "metadata": {},
   "outputs": [
    {
     "data": {
      "text/plain": [
       "1.0"
      ]
     },
     "execution_count": 132,
     "metadata": {},
     "output_type": "execute_result"
    }
   ],
   "source": [
    "accuracy_score(y_test, y_pred_kn)"
   ]
  },
  {
   "cell_type": "markdown",
   "id": "8768d05e",
   "metadata": {},
   "source": [
    "## Pasting\n",
    "Initialize a Decision Tree classifier and use it as the base estimator for a Bagging classifier with Pasting (without replacement)."
   ]
  },
  {
   "cell_type": "code",
   "execution_count": 134,
   "id": "2ee558a9",
   "metadata": {},
   "outputs": [
    {
     "name": "stderr",
     "output_type": "stream",
     "text": [
      "C:\\Users\\gemar\\anaconda3\\Lib\\site-packages\\sklearn\\ensemble\\_bagging.py:782: DataConversionWarning: A column-vector y was passed when a 1d array was expected. Please change the shape of y to (n_samples, ), for example using ravel().\n",
      "  y = column_or_1d(y, warn=True)\n"
     ]
    }
   ],
   "source": [
    "dt = DecisionTreeClassifier()\n",
    "bagging_dt = BaggingClassifier(dt, n_estimators = 20, random_state = 42)\n",
    "\n",
    "bagging_dt.fit(X_train, y_train)\n",
    "y_pred_dt = bagging_dt.predict(X_test)"
   ]
  },
  {
   "cell_type": "markdown",
   "id": "4ff8b204",
   "metadata": {},
   "source": [
    "### Evaluate the model performance"
   ]
  },
  {
   "cell_type": "code",
   "execution_count": 136,
   "id": "2fd5abd3",
   "metadata": {},
   "outputs": [
    {
     "data": {
      "text/plain": [
       "1.0"
      ]
     },
     "execution_count": 136,
     "metadata": {},
     "output_type": "execute_result"
    }
   ],
   "source": [
    "accuracy_score(y_test, y_pred_dt)"
   ]
  },
  {
   "cell_type": "markdown",
   "id": "1dcdb581",
   "metadata": {},
   "source": [
    "## Roughly Balanced Bagging (RBB)\n",
    "Implement Roughly Balanced Bagging by manually creating balanced bootstrap samples and aggregating predictions from multiple Decision Tree classifiers."
   ]
  },
  {
   "cell_type": "code",
   "execution_count": 146,
   "id": "21309157",
   "metadata": {},
   "outputs": [],
   "source": [
    "import numpy as np\n",
    "# Number of base estimators\n",
    "n_estimators = 100\n",
    "\n",
    "# Initialize arrays to store the ensemble predictions and models\n",
    "ensemble_preds = np.zeros((n_estimators, len(X_test)))\n",
    "ensemble_models = []\n",
    "\n",
    "for i in range(n_estimators):\n",
    "    # Create a bootstrap sample, ensuring it's roughly balanced\n",
    "    pos_indices = np.where(y_train == 1)[0]\n",
    "    neg_indices = np.where(y_train == 0)[0]\n",
    "\n",
    "    chosen_pos_indices = np.random.choice(pos_indices, size=len(pos_indices), replace=True)\n",
    "    chosen_neg_indices = np.random.choice(neg_indices, size=len(pos_indices), replace=True)\n",
    "\n",
    "    balanced_sample_indices = np.concatenate([chosen_pos_indices, chosen_neg_indices])\n",
    "    np.random.shuffle(balanced_sample_indices)\n",
    "\n",
    "    X_train_balanced = X_train.iloc[balanced_sample_indices]\n",
    "    y_train_balanced = y_train.iloc[balanced_sample_indices]\n",
    "\n",
    "    # Train a decision tree classifier on the balanced bootstrap sample\n",
    "    tree_clf = DecisionTreeClassifier(random_state=i)\n",
    "    tree_clf.fit(X_train_balanced, y_train_balanced)\n",
    "    ensemble_models.append(tree_clf)\n",
    "\n",
    "    # Make predictions on the test set\n",
    "    ensemble_preds[i] = tree_clf.predict(X_test)\n",
    "\n",
    "# Majority voting across all estimators for the final prediction\n",
    "y_pred_rbb = np.round(np.mean(ensemble_preds, axis=0))\n",
    "\n"
   ]
  },
  {
   "cell_type": "markdown",
   "id": "ee97138e",
   "metadata": {},
   "source": [
    "### Evaluate the model performance"
   ]
  },
  {
   "cell_type": "code",
   "execution_count": 149,
   "id": "c3726ae5",
   "metadata": {},
   "outputs": [
    {
     "name": "stdout",
     "output_type": "stream",
     "text": [
      "Roughly Balanced Bagging Model Accuracy: 0.63\n"
     ]
    }
   ],
   "source": [
    "# Calculate accuracy\n",
    "accuracy = accuracy_score(y_test, y_pred_rbb)\n",
    "print(f'Roughly Balanced Bagging Model Accuracy: {accuracy:.2f}')"
   ]
  }
 ],
 "metadata": {
  "kernelspec": {
   "display_name": "Python 3 (ipykernel)",
   "language": "python",
   "name": "python3"
  },
  "language_info": {
   "codemirror_mode": {
    "name": "ipython",
    "version": 3
   },
   "file_extension": ".py",
   "mimetype": "text/x-python",
   "name": "python",
   "nbconvert_exporter": "python",
   "pygments_lexer": "ipython3",
   "version": "3.12.4"
  }
 },
 "nbformat": 4,
 "nbformat_minor": 5
}
