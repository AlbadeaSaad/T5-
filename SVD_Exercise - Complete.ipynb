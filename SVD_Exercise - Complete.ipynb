{
 "cells": [
  {
   "cell_type": "markdown",
   "metadata": {
    "id": "0PzxgQHw9ccz"
   },
   "source": [
    "#**SVD**"
   ]
  },
  {
   "cell_type": "markdown",
   "metadata": {
    "id": "luFPiQ2i9myX"
   },
   "source": [
    "#import libraries"
   ]
  },
  {
   "cell_type": "code",
   "execution_count": 4,
   "metadata": {
    "id": "G-4zglvy9WkS"
   },
   "outputs": [],
   "source": [
    "import pandas as pd\n",
    "import numpy as np\n",
    "import seaborn as sb\n",
    "import matplotlib.pyplot as plt\n",
    "from sklearn.model_selection import train_test_split\n",
    "from sklearn.preprocessing import StandardScaler\n",
    "from sklearn.pipeline import Pipeline\n",
    "from sklearn.preprocessing import OrdinalEncoder\n",
    "%matplotlib inline"
   ]
  },
  {
   "cell_type": "markdown",
   "metadata": {
    "id": "nZFDaio79sgu"
   },
   "source": [
    "#Load the tabular dataset :\n",
    "\n",
    "dataset :\n",
    "\n",
    "\n",
    "    [1, 2, 1, 0, 4],\n",
    "\n",
    "    [2, 3, 4, 0, 2],\n",
    "\n",
    "    [3, 1, 1, 0, 5],\n",
    "\n",
    "    [4, 0, 2, 5, 0],\n",
    "\n",
    "    [5, 4, 0, 1, 2]\n"
   ]
  },
  {
   "cell_type": "code",
   "execution_count": 32,
   "metadata": {
    "id": "MQ009CYG9qQS"
   },
   "outputs": [],
   "source": [
    "df = pd.DataFrame(np.array([\n",
    "    [5, 2, 1, 0, 4],\n",
    "\n",
    "[7, 3, 4, 2, 2],\n",
    "\n",
    "[3, 1, 1, 8, 5],\n",
    "\n",
    "[4, 9, 2, 5, 1],\n",
    "\n",
    "[5, 2, 3, 1, 2]\n",
    "    \n",
    "]))"
   ]
  },
  {
   "cell_type": "markdown",
   "metadata": {
    "id": "2roOK1gZ9yQo"
   },
   "source": [
    "#Perform Singular Value Decomposition (SVD)\n"
   ]
  },
  {
   "cell_type": "markdown",
   "metadata": {
    "id": "5ygCLQNt96Vb"
   },
   "source": [
    "# Extract the singular values and vectors"
   ]
  },
  {
   "cell_type": "code",
   "execution_count": 42,
   "metadata": {
    "id": "d_hE13Sn94k5"
   },
   "outputs": [
    {
     "data": {
      "text/plain": [
       "array([[-0.60226822, -0.4878509 , -0.28379522, -0.45356135, -0.33617981],\n",
       "       [-0.45737139, -0.16763871, -0.27505977,  0.80058875,  0.21472878],\n",
       "       [ 0.34881991, -0.7768483 ,  0.09717371, -0.06700177,  0.51078315],\n",
       "       [-0.0673734 ,  0.33274247, -0.61325992, -0.34668403,  0.62327019],\n",
       "       [ 0.54942688, -0.14031366, -0.67695785,  0.16929472, -0.43761803]])"
      ]
     },
     "execution_count": 42,
     "metadata": {},
     "output_type": "execute_result"
    }
   ],
   "source": [
    "U, s, VT = np.linalg.svd(df)\n",
    "VT"
   ]
  },
  {
   "cell_type": "code",
   "execution_count": 64,
   "metadata": {},
   "outputs": [],
   "source": [
    "singular_values = np.diag(s)\n",
    "left_singular_vectors = U\n",
    "right_singular_vectors = VT.T"
   ]
  },
  {
   "cell_type": "code",
   "execution_count": 85,
   "metadata": {},
   "outputs": [
    {
     "data": {
      "text/plain": [
       "array([[-0.60226822, -0.45737139,  0.34881991, -0.0673734 ,  0.54942688],\n",
       "       [-0.4878509 , -0.16763871, -0.7768483 ,  0.33274247, -0.14031366],\n",
       "       [-0.28379522, -0.27505977,  0.09717371, -0.61325992, -0.67695785],\n",
       "       [-0.45356135,  0.80058875, -0.06700177, -0.34668403,  0.16929472],\n",
       "       [-0.33617981,  0.21472878,  0.51078315,  0.62327019, -0.43761803]])"
      ]
     },
     "execution_count": 85,
     "metadata": {},
     "output_type": "execute_result"
    }
   ],
   "source": [
    "VT.T"
   ]
  },
  {
   "cell_type": "markdown",
   "metadata": {
    "id": "piU0jgug9_gD"
   },
   "source": [
    "# Perform dimensionality reduction by selecting top k singular values and vectors\n"
   ]
  },
  {
   "cell_type": "code",
   "execution_count": 74,
   "metadata": {},
   "outputs": [],
   "source": [
    "k = 3\n",
    "reduced_dataset = np.dot(np.dot(left_singular_vectors[:, :k], singular_values[:k, :k]), right_singular_vectors[:,:k].T)"
   ]
  },
  {
   "cell_type": "markdown",
   "metadata": {
    "id": "4raXfdzz-Gex"
   },
   "source": [
    "# Print the original and reduced datasets\n"
   ]
  },
  {
   "cell_type": "code",
   "execution_count": 95,
   "metadata": {},
   "outputs": [
    {
     "data": {
      "text/plain": [
       "array([[5, 2, 1, 0, 4],\n",
       "       [7, 3, 4, 2, 2],\n",
       "       [3, 1, 1, 8, 5],\n",
       "       [4, 9, 2, 5, 1],\n",
       "       [5, 2, 3, 1, 2]])"
      ]
     },
     "execution_count": 95,
     "metadata": {},
     "output_type": "execute_result"
    }
   ],
   "source": [
    "#Original\n",
    "np.array(df)"
   ]
  },
  {
   "cell_type": "code",
   "execution_count": 87,
   "metadata": {
    "id": "c7YIIN3S-DTl"
   },
   "outputs": [
    {
     "data": {
      "text/plain": [
       "array([[5.12732002, 1.27064167, 2.38080054, 0.7590149 , 2.6406468 ],\n",
       "       [6.80826968, 3.48227617, 3.28007623, 1.49334546, 2.93492844],\n",
       "       [2.99208018, 1.04612163, 0.91244793, 7.95200884, 5.08591584],\n",
       "       [4.03176655, 8.8692955 , 2.23137465, 5.13641595, 0.75339477],\n",
       "       [5.10732865, 2.16547942, 2.44212386, 0.83383184, 2.2627169 ]])"
      ]
     },
     "execution_count": 87,
     "metadata": {},
     "output_type": "execute_result"
    }
   ],
   "source": [
    "#reduced\n",
    "reduced_dataset"
   ]
  },
  {
   "cell_type": "markdown",
   "metadata": {
    "id": "ASLB0yos-Ofm"
   },
   "source": [
    "#**Well done :)**"
   ]
  }
 ],
 "metadata": {
  "colab": {
   "provenance": []
  },
  "kernelspec": {
   "display_name": "Python 3 (ipykernel)",
   "language": "python",
   "name": "python3"
  },
  "language_info": {
   "codemirror_mode": {
    "name": "ipython",
    "version": 3
   },
   "file_extension": ".py",
   "mimetype": "text/x-python",
   "name": "python",
   "nbconvert_exporter": "python",
   "pygments_lexer": "ipython3",
   "version": "3.12.4"
  }
 },
 "nbformat": 4,
 "nbformat_minor": 4
}
